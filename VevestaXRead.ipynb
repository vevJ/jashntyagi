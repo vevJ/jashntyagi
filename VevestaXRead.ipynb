{
 "cells": [
  {
   "cell_type": "code",
   "execution_count": null,
   "id": "8b9e463f-56bb-418d-84c4-4961d0b14686",
   "metadata": {},
   "outputs": [],
   "source": [
    "pip uninstall vevestaX"
   ]
  },
  {
   "cell_type": "code",
   "execution_count": 4,
   "id": "a9f1dae9-2881-4600-9d9e-64df80685b6e",
   "metadata": {},
   "outputs": [
    {
     "name": "stdout",
     "output_type": "stream",
     "text": [
      "Requirement already satisfied: seaborn in c:\\users\\jashn\\desktop\\python\\lib\\site-packages (0.11.2)\n",
      "Requirement already satisfied: scipy>=1.0 in c:\\users\\jashn\\desktop\\python\\lib\\site-packages (from seaborn) (1.9.0)\n",
      "Requirement already satisfied: pandas>=0.23 in c:\\users\\jashn\\desktop\\python\\lib\\site-packages (from seaborn) (1.4.3)\n",
      "Requirement already satisfied: numpy>=1.15 in c:\\users\\jashn\\desktop\\python\\lib\\site-packages (from seaborn) (1.23.2)\n",
      "Requirement already satisfied: matplotlib>=2.2 in c:\\users\\jashn\\desktop\\python\\lib\\site-packages (from seaborn) (3.5.3)\n",
      "Requirement already satisfied: python-dateutil>=2.7 in c:\\users\\jashn\\desktop\\python\\lib\\site-packages (from matplotlib>=2.2->seaborn) (2.8.2)\n",
      "Requirement already satisfied: cycler>=0.10 in c:\\users\\jashn\\desktop\\python\\lib\\site-packages (from matplotlib>=2.2->seaborn) (0.11.0)\n",
      "Requirement already satisfied: fonttools>=4.22.0 in c:\\users\\jashn\\desktop\\python\\lib\\site-packages (from matplotlib>=2.2->seaborn) (4.34.4)\n",
      "Requirement already satisfied: pillow>=6.2.0 in c:\\users\\jashn\\desktop\\python\\lib\\site-packages (from matplotlib>=2.2->seaborn) (9.2.0)\n",
      "Requirement already satisfied: packaging>=20.0 in c:\\users\\jashn\\desktop\\python\\lib\\site-packages (from matplotlib>=2.2->seaborn) (21.3)\n",
      "Requirement already satisfied: kiwisolver>=1.0.1 in c:\\users\\jashn\\desktop\\python\\lib\\site-packages (from matplotlib>=2.2->seaborn) (1.4.4)\n",
      "Requirement already satisfied: pyparsing>=2.2.1 in c:\\users\\jashn\\desktop\\python\\lib\\site-packages (from matplotlib>=2.2->seaborn) (3.0.9)\n",
      "Requirement already satisfied: pytz>=2020.1 in c:\\users\\jashn\\desktop\\python\\lib\\site-packages (from pandas>=0.23->seaborn) (2022.2.1)\n",
      "Requirement already satisfied: six>=1.5 in c:\\users\\jashn\\desktop\\python\\lib\\site-packages (from python-dateutil>=2.7->matplotlib>=2.2->seaborn) (1.16.0)\n",
      "Note: you may need to restart the kernel to use updated packages.\n"
     ]
    }
   ],
   "source": [
    "pip install seaborn\n"
   ]
  },
  {
   "cell_type": "code",
   "execution_count": 5,
   "id": "f71841cf-8173-49a0-b83a-b7d7d620599d",
   "metadata": {},
   "outputs": [
    {
     "name": "stdout",
     "output_type": "stream",
     "text": [
      "Note: you may need to restart the kernel to use updated packages.\n"
     ]
    },
    {
     "name": "stderr",
     "output_type": "stream",
     "text": [
      "ERROR: Could not find a version that satisfies the requirement vevestaX-6.8.0-py3-none-any (from versions: none)\n",
      "ERROR: No matching distribution found for vevestaX-6.8.0-py3-none-any\n"
     ]
    }
   ],
   "source": [
    "pip install vevestaX-6.8.0-py3-none-any"
   ]
  },
  {
   "cell_type": "code",
   "execution_count": 6,
   "id": "623c85cf-0826-4af1-a321-863ec64edde0",
   "metadata": {},
   "outputs": [],
   "source": [
    "#import the vevesta Library\n",
    "from vevestaX import vevesta as v\n",
    "V=v.Experiment()"
   ]
  },
  {
   "cell_type": "code",
   "execution_count": 7,
   "id": "5eef25c2-1920-4c46-b0f4-b7c79c9b3656",
   "metadata": {},
   "outputs": [],
   "source": [
    "#read the dataset\n",
    "import pandas as pd\n",
    "df=pd.read_csv(\"iris.csv\")\n",
    "df.head(2)\n",
    "\n",
    "#Extract the columns names for features\n",
    "V.ds=df\n",
    "# you can also use:\n",
    "#   V.dataSourcing = df"
   ]
  },
  {
   "cell_type": "code",
   "execution_count": 8,
   "id": "90212d9b-08f7-4e5c-ac43-75343f069245",
   "metadata": {},
   "outputs": [],
   "source": [
    "#Extract features engineered\n",
    "V.fe=df  \n",
    "# you can also use:\n",
    "V.featureEngineering = df"
   ]
  },
  {
   "cell_type": "code",
   "execution_count": 9,
   "id": "47a208dd-3beb-41c6-b5be-af28f89c133e",
   "metadata": {},
   "outputs": [
    {
     "data": {
      "text/plain": [
       "{'epochs': 100, 'seed': 3, 'accuracy': 99, 'recall': 1, 'loss': 'rmse'}"
      ]
     },
     "execution_count": 9,
     "metadata": {},
     "output_type": "execute_result"
    }
   ],
   "source": [
    "#Track variables which have been used for modelling\n",
    "V.start()\n",
    "# you can also use: V.startModelling()\n",
    "\n",
    "\n",
    "# All the variables mentioned here will be tracked\n",
    "epochs=100\n",
    "seed=3\n",
    "accuracy = 99 #this will be computed variable\n",
    "recall = 1\n",
    " #This will be computed variable\n",
    "loss='rmse'\n",
    "\n",
    "\n",
    "#end tracking of variables\n",
    "V.end()\n",
    "# or, you can also use : V.endModelling()"
   ]
  },
  {
   "cell_type": "code",
   "execution_count": 10,
   "id": "6be0e232-25d7-49f0-970d-1bd185b8b132",
   "metadata": {},
   "outputs": [
    {
     "name": "stdout",
     "output_type": "stream",
     "text": [
      "Dumped the experiment in the file vevestaDump1.xlsx\n",
      "Help your ML community work better by giving us a Github star at https://github.com/Vevesta/VevestaX\n",
      "File pushed to git\n"
     ]
    }
   ],
   "source": [
    "# Dump the datasourcing, featres engineered and the variables tracked in a xlsx file\n",
    "V.dump(techniqueUsed='XGBoost',filename=\"vevestaDump1.xlsx\",message=\"XGboost with data augmentation was used\",version=1, repoName=\"jashntyagi\")"
   ]
  },
  {
   "cell_type": "code",
   "execution_count": 11,
   "id": "6a24e56e-a551-4cc4-8717-628ba564e091",
   "metadata": {},
   "outputs": [
    {
     "name": "stdout",
     "output_type": "stream",
     "text": [
      "Dumped the experiment in the file vevesta.xlsx\n",
      "For additional features, explore our tool at https://www.vevesta.com?utm_source=vevestaX for free.\n"
     ]
    }
   ],
   "source": [
    "V.dump(techniqueUsed='XGBoost')"
   ]
  },
  {
   "cell_type": "code",
   "execution_count": 13,
   "id": "58652553-40c4-4c77-b784-4396c29ad026",
   "metadata": {},
   "outputs": [
    {
     "name": "stdout",
     "output_type": "stream",
     "text": [
      "Dumped the experiment in the file vevesta.xlsx\n",
      "File pushed to git\n",
      "Wrote experiment to tool, Vevesta\n"
     ]
    }
   ],
   "source": [
    "V.commit(techniqueUsed = \"Jashn_Tyagi_Iris\", message=\"increased accuracy\", version=1, projectId=164, repoName='jashntyagi')"
   ]
  },
  {
   "cell_type": "code",
   "execution_count": null,
   "id": "12af6e71-e4e9-4923-9ece-cfcf6d6a549d",
   "metadata": {},
   "outputs": [],
   "source": []
  },
  {
   "cell_type": "code",
   "execution_count": null,
   "id": "20addfdc-76e3-41a0-a4be-9786f38fd0ba",
   "metadata": {},
   "outputs": [],
   "source": []
  }
 ],
 "metadata": {
  "kernelspec": {
   "display_name": "Python 3 (ipykernel)",
   "language": "python",
   "name": "python3"
  },
  "language_info": {
   "codemirror_mode": {
    "name": "ipython",
    "version": 3
   },
   "file_extension": ".py",
   "mimetype": "text/x-python",
   "name": "python",
   "nbconvert_exporter": "python",
   "pygments_lexer": "ipython3",
   "version": "3.10.6"
  }
 },
 "nbformat": 4,
 "nbformat_minor": 5
}
