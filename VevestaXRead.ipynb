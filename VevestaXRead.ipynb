{
 "cells": [
  {
   "cell_type": "code",
   "execution_count": 1,
   "id": "8b9e463f-56bb-418d-84c4-4961d0b14686",
   "metadata": {},
   "outputs": [
    {
     "name": "stdout",
     "output_type": "stream",
     "text": [
      "Requirement already satisfied: vevestaX in c:\\users\\jashn\\desktop\\python\\lib\\site-packages (6.7.0)\n",
      "Requirement already satisfied: matplotlib in c:\\users\\jashn\\desktop\\python\\lib\\site-packages (from vevestaX) (3.5.3)\n",
      "Requirement already satisfied: ipynbname in c:\\users\\jashn\\desktop\\python\\lib\\site-packages (from vevestaX) (2021.3.2)\n",
      "Requirement already satisfied: requests in c:\\users\\jashn\\desktop\\python\\lib\\site-packages (from vevestaX) (2.28.1)\n",
      "Requirement already satisfied: statistics in c:\\users\\jashn\\desktop\\python\\lib\\site-packages (from vevestaX) (1.0.3.5)\n",
      "Requirement already satisfied: PyGithub in c:\\users\\jashn\\desktop\\python\\lib\\site-packages (from vevestaX) (1.55)\n",
      "Requirement already satisfied: Jinja2 in c:\\users\\jashn\\desktop\\python\\lib\\site-packages (from vevestaX) (3.1.2)\n",
      "Requirement already satisfied: pandas in c:\\users\\jashn\\desktop\\python\\lib\\site-packages (from vevestaX) (1.4.3)\n",
      "Requirement already satisfied: openpyxl in c:\\users\\jashn\\desktop\\python\\lib\\site-packages (from vevestaX) (3.0.10)\n",
      "Requirement already satisfied: datetime in c:\\users\\jashn\\desktop\\python\\lib\\site-packages (from vevestaX) (4.5)\n",
      "Requirement already satisfied: xlrd in c:\\users\\jashn\\desktop\\python\\lib\\site-packages (from vevestaX) (2.0.1)\n",
      "Requirement already satisfied: pyspark in c:\\users\\jashn\\desktop\\python\\lib\\site-packages (from vevestaX) (3.3.0)\n",
      "Requirement already satisfied: numpy in c:\\users\\jashn\\desktop\\python\\lib\\site-packages (from vevestaX) (1.23.2)\n",
      "Requirement already satisfied: img2pdf in c:\\users\\jashn\\desktop\\python\\lib\\site-packages (from vevestaX) (0.4.4)\n",
      "Requirement already satisfied: scipy in c:\\users\\jashn\\desktop\\python\\lib\\site-packages (from vevestaX) (1.9.0)\n",
      "Requirement already satisfied: pytz in c:\\users\\jashn\\desktop\\python\\lib\\site-packages (from datetime->vevestaX) (2022.2.1)\n",
      "Requirement already satisfied: zope.interface in c:\\users\\jashn\\desktop\\python\\lib\\site-packages (from datetime->vevestaX) (5.4.0)\n",
      "Requirement already satisfied: Pillow in c:\\users\\jashn\\desktop\\python\\lib\\site-packages (from img2pdf->vevestaX) (9.2.0)\n",
      "Requirement already satisfied: pikepdf in c:\\users\\jashn\\desktop\\python\\lib\\site-packages (from img2pdf->vevestaX) (5.4.2)\n",
      "Requirement already satisfied: ipykernel in c:\\users\\jashn\\desktop\\python\\lib\\site-packages (from ipynbname->vevestaX) (6.15.1)\n",
      "Requirement already satisfied: MarkupSafe>=2.0 in c:\\users\\jashn\\desktop\\python\\lib\\site-packages (from Jinja2->vevestaX) (2.1.1)\n",
      "Requirement already satisfied: python-dateutil>=2.7 in c:\\users\\jashn\\desktop\\python\\lib\\site-packages (from matplotlib->vevestaX) (2.8.2)\n",
      "Requirement already satisfied: pyparsing>=2.2.1 in c:\\users\\jashn\\desktop\\python\\lib\\site-packages (from matplotlib->vevestaX) (3.0.9)\n",
      "Requirement already satisfied: fonttools>=4.22.0 in c:\\users\\jashn\\desktop\\python\\lib\\site-packages (from matplotlib->vevestaX) (4.34.4)\n",
      "Requirement already satisfied: kiwisolver>=1.0.1 in c:\\users\\jashn\\desktop\\python\\lib\\site-packages (from matplotlib->vevestaX) (1.4.4)\n",
      "Requirement already satisfied: packaging>=20.0 in c:\\users\\jashn\\desktop\\python\\lib\\site-packages (from matplotlib->vevestaX) (21.3)\n",
      "Requirement already satisfied: cycler>=0.10 in c:\\users\\jashn\\desktop\\python\\lib\\site-packages (from matplotlib->vevestaX) (0.11.0)\n",
      "Requirement already satisfied: et-xmlfile in c:\\users\\jashn\\desktop\\python\\lib\\site-packages (from openpyxl->vevestaX) (1.1.0)\n",
      "Requirement already satisfied: pynacl>=1.4.0 in c:\\users\\jashn\\desktop\\python\\lib\\site-packages (from PyGithub->vevestaX) (1.5.0)\n",
      "Requirement already satisfied: pyjwt>=2.0 in c:\\users\\jashn\\desktop\\python\\lib\\site-packages (from PyGithub->vevestaX) (2.4.0)\n",
      "Requirement already satisfied: deprecated in c:\\users\\jashn\\desktop\\python\\lib\\site-packages (from PyGithub->vevestaX) (1.2.13)\n",
      "Requirement already satisfied: idna<4,>=2.5 in c:\\users\\jashn\\desktop\\python\\lib\\site-packages (from requests->vevestaX) (3.3)\n",
      "Requirement already satisfied: urllib3<1.27,>=1.21.1 in c:\\users\\jashn\\desktop\\python\\lib\\site-packages (from requests->vevestaX) (1.26.11)\n",
      "Requirement already satisfied: charset-normalizer<3,>=2 in c:\\users\\jashn\\desktop\\python\\lib\\site-packages (from requests->vevestaX) (2.1.0)\n",
      "Requirement already satisfied: certifi>=2017.4.17 in c:\\users\\jashn\\desktop\\python\\lib\\site-packages (from requests->vevestaX) (2022.6.15)\n",
      "Requirement already satisfied: py4j==0.10.9.5 in c:\\users\\jashn\\desktop\\python\\lib\\site-packages (from pyspark->vevestaX) (0.10.9.5)\n",
      "Requirement already satisfied: docutils>=0.3 in c:\\users\\jashn\\desktop\\python\\lib\\site-packages (from statistics->vevestaX) (0.19)\n",
      "Requirement already satisfied: cffi>=1.4.1 in c:\\users\\jashn\\desktop\\python\\lib\\site-packages (from pynacl>=1.4.0->PyGithub->vevestaX) (1.15.1)\n",
      "Requirement already satisfied: six>=1.5 in c:\\users\\jashn\\desktop\\python\\lib\\site-packages (from python-dateutil>=2.7->matplotlib->vevestaX) (1.16.0)\n",
      "Requirement already satisfied: wrapt<2,>=1.10 in c:\\users\\jashn\\desktop\\python\\lib\\site-packages (from deprecated->PyGithub->vevestaX) (1.14.1)\n",
      "Requirement already satisfied: nest-asyncio in c:\\users\\jashn\\desktop\\python\\lib\\site-packages (from ipykernel->ipynbname->vevestaX) (1.5.5)\n",
      "Requirement already satisfied: matplotlib-inline>=0.1 in c:\\users\\jashn\\desktop\\python\\lib\\site-packages (from ipykernel->ipynbname->vevestaX) (0.1.3)\n",
      "Requirement already satisfied: debugpy>=1.0 in c:\\users\\jashn\\desktop\\python\\lib\\site-packages (from ipykernel->ipynbname->vevestaX) (1.6.2)\n",
      "Requirement already satisfied: pyzmq>=17 in c:\\users\\jashn\\desktop\\python\\lib\\site-packages (from ipykernel->ipynbname->vevestaX) (23.2.1)\n",
      "Requirement already satisfied: tornado>=6.1 in c:\\users\\jashn\\desktop\\python\\lib\\site-packages (from ipykernel->ipynbname->vevestaX) (6.2)\n",
      "Requirement already satisfied: ipython>=7.23.1 in c:\\users\\jashn\\desktop\\python\\lib\\site-packages (from ipykernel->ipynbname->vevestaX) (8.4.0)\n",
      "Requirement already satisfied: psutil in c:\\users\\jashn\\desktop\\python\\lib\\site-packages (from ipykernel->ipynbname->vevestaX) (5.9.1)\n",
      "Requirement already satisfied: traitlets>=5.1.0 in c:\\users\\jashn\\desktop\\python\\lib\\site-packages (from ipykernel->ipynbname->vevestaX) (5.3.0)\n",
      "Requirement already satisfied: jupyter-client>=6.1.12 in c:\\users\\jashn\\desktop\\python\\lib\\site-packages (from ipykernel->ipynbname->vevestaX) (7.3.4)\n",
      "Requirement already satisfied: deprecation in c:\\users\\jashn\\desktop\\python\\lib\\site-packages (from pikepdf->img2pdf->vevestaX) (2.1.0)\n",
      "Requirement already satisfied: lxml>=4.0 in c:\\users\\jashn\\desktop\\python\\lib\\site-packages (from pikepdf->img2pdf->vevestaX) (4.9.1)\n",
      "Requirement already satisfied: setuptools in c:\\users\\jashn\\desktop\\python\\lib\\site-packages (from zope.interface->datetime->vevestaX) (58.1.0)\n",
      "Requirement already satisfied: pycparser in c:\\users\\jashn\\desktop\\python\\lib\\site-packages (from cffi>=1.4.1->pynacl>=1.4.0->PyGithub->vevestaX) (2.21)\n",
      "Requirement already satisfied: prompt-toolkit!=3.0.0,!=3.0.1,<3.1.0,>=2.0.0 in c:\\users\\jashn\\desktop\\python\\lib\\site-packages (from ipython>=7.23.1->ipykernel->ipynbname->vevestaX) (3.0.30)\n",
      "Requirement already satisfied: colorama in c:\\users\\jashn\\desktop\\python\\lib\\site-packages (from ipython>=7.23.1->ipykernel->ipynbname->vevestaX) (0.4.5)\n",
      "Requirement already satisfied: stack-data in c:\\users\\jashn\\desktop\\python\\lib\\site-packages (from ipython>=7.23.1->ipykernel->ipynbname->vevestaX) (0.4.0)\n",
      "Requirement already satisfied: pickleshare in c:\\users\\jashn\\desktop\\python\\lib\\site-packages (from ipython>=7.23.1->ipykernel->ipynbname->vevestaX) (0.7.5)\n",
      "Requirement already satisfied: pygments>=2.4.0 in c:\\users\\jashn\\desktop\\python\\lib\\site-packages (from ipython>=7.23.1->ipykernel->ipynbname->vevestaX) (2.12.0)\n",
      "Requirement already satisfied: backcall in c:\\users\\jashn\\desktop\\python\\lib\\site-packages (from ipython>=7.23.1->ipykernel->ipynbname->vevestaX) (0.2.0)\n",
      "Requirement already satisfied: jedi>=0.16 in c:\\users\\jashn\\desktop\\python\\lib\\site-packages (from ipython>=7.23.1->ipykernel->ipynbname->vevestaX) (0.18.1)\n",
      "Requirement already satisfied: decorator in c:\\users\\jashn\\desktop\\python\\lib\\site-packages (from ipython>=7.23.1->ipykernel->ipynbname->vevestaX) (5.1.1)\n",
      "Requirement already satisfied: jupyter-core>=4.9.2 in c:\\users\\jashn\\desktop\\python\\lib\\site-packages (from jupyter-client>=6.1.12->ipykernel->ipynbname->vevestaX) (4.11.1)\n",
      "Requirement already satisfied: entrypoints in c:\\users\\jashn\\desktop\\python\\lib\\site-packages (from jupyter-client>=6.1.12->ipykernel->ipynbname->vevestaX) (0.4)\n",
      "Requirement already satisfied: parso<0.9.0,>=0.8.0 in c:\\users\\jashn\\desktop\\python\\lib\\site-packages (from jedi>=0.16->ipython>=7.23.1->ipykernel->ipynbname->vevestaX) (0.8.3)\n",
      "Requirement already satisfied: pywin32>=1.0 in c:\\users\\jashn\\desktop\\python\\lib\\site-packages (from jupyter-core>=4.9.2->jupyter-client>=6.1.12->ipykernel->ipynbname->vevestaX) (304)\n",
      "Requirement already satisfied: wcwidth in c:\\users\\jashn\\desktop\\python\\lib\\site-packages (from prompt-toolkit!=3.0.0,!=3.0.1,<3.1.0,>=2.0.0->ipython>=7.23.1->ipykernel->ipynbname->vevestaX) (0.2.5)\n",
      "Requirement already satisfied: executing in c:\\users\\jashn\\desktop\\python\\lib\\site-packages (from stack-data->ipython>=7.23.1->ipykernel->ipynbname->vevestaX) (0.10.0)\n",
      "Requirement already satisfied: asttokens in c:\\users\\jashn\\desktop\\python\\lib\\site-packages (from stack-data->ipython>=7.23.1->ipykernel->ipynbname->vevestaX) (2.0.7)\n",
      "Requirement already satisfied: pure-eval in c:\\users\\jashn\\desktop\\python\\lib\\site-packages (from stack-data->ipython>=7.23.1->ipykernel->ipynbname->vevestaX) (0.2.2)\n",
      "Note: you may need to restart the kernel to use updated packages.\n"
     ]
    }
   ],
   "source": [
    "pip install vevestaX"
   ]
  },
  {
   "cell_type": "code",
   "execution_count": null,
   "id": "ce7b6f23-a53a-485a-9a21-af004d9d8dd3",
   "metadata": {},
   "outputs": [],
   "source": [
    "pip install "
   ]
  },
  {
   "cell_type": "code",
   "execution_count": 2,
   "id": "a9f1dae9-2881-4600-9d9e-64df80685b6e",
   "metadata": {},
   "outputs": [
    {
     "name": "stdout",
     "output_type": "stream",
     "text": [
      "Requirement already satisfied: seaborn in c:\\users\\jashn\\desktop\\python\\lib\\site-packages (0.11.2)\n",
      "Requirement already satisfied: scipy>=1.0 in c:\\users\\jashn\\desktop\\python\\lib\\site-packages (from seaborn) (1.9.0)\n",
      "Requirement already satisfied: pandas>=0.23 in c:\\users\\jashn\\desktop\\python\\lib\\site-packages (from seaborn) (1.4.3)\n",
      "Requirement already satisfied: matplotlib>=2.2 in c:\\users\\jashn\\desktop\\python\\lib\\site-packages (from seaborn) (3.5.3)\n",
      "Requirement already satisfied: numpy>=1.15 in c:\\users\\jashn\\desktop\\python\\lib\\site-packages (from seaborn) (1.23.2)\n",
      "Requirement already satisfied: pillow>=6.2.0 in c:\\users\\jashn\\desktop\\python\\lib\\site-packages (from matplotlib>=2.2->seaborn) (9.2.0)\n",
      "Requirement already satisfied: pyparsing>=2.2.1 in c:\\users\\jashn\\desktop\\python\\lib\\site-packages (from matplotlib>=2.2->seaborn) (3.0.9)\n",
      "Requirement already satisfied: fonttools>=4.22.0 in c:\\users\\jashn\\desktop\\python\\lib\\site-packages (from matplotlib>=2.2->seaborn) (4.34.4)\n",
      "Requirement already satisfied: cycler>=0.10 in c:\\users\\jashn\\desktop\\python\\lib\\site-packages (from matplotlib>=2.2->seaborn) (0.11.0)\n",
      "Requirement already satisfied: packaging>=20.0 in c:\\users\\jashn\\desktop\\python\\lib\\site-packages (from matplotlib>=2.2->seaborn) (21.3)\n",
      "Requirement already satisfied: kiwisolver>=1.0.1 in c:\\users\\jashn\\desktop\\python\\lib\\site-packages (from matplotlib>=2.2->seaborn) (1.4.4)\n",
      "Requirement already satisfied: python-dateutil>=2.7 in c:\\users\\jashn\\desktop\\python\\lib\\site-packages (from matplotlib>=2.2->seaborn) (2.8.2)\n",
      "Requirement already satisfied: pytz>=2020.1 in c:\\users\\jashn\\desktop\\python\\lib\\site-packages (from pandas>=0.23->seaborn) (2022.2.1)\n",
      "Requirement already satisfied: six>=1.5 in c:\\users\\jashn\\desktop\\python\\lib\\site-packages (from python-dateutil>=2.7->matplotlib>=2.2->seaborn) (1.16.0)\n",
      "Note: you may need to restart the kernel to use updated packages.\n"
     ]
    }
   ],
   "source": [
    "pip install seaborn\n"
   ]
  },
  {
   "cell_type": "code",
   "execution_count": 16,
   "id": "f71841cf-8173-49a0-b83a-b7d7d620599d",
   "metadata": {},
   "outputs": [
    {
     "name": "stdout",
     "output_type": "stream",
     "text": [
      "Note: you may need to restart the kernel to use updated packages.\n"
     ]
    },
    {
     "name": "stderr",
     "output_type": "stream",
     "text": [
      "ERROR: Could not find a version that satisfies the requirement vevestaX-6.8.0-py3-none-any (from versions: none)\n",
      "ERROR: No matching distribution found for vevestaX-6.8.0-py3-none-any\n"
     ]
    }
   ],
   "source": [
    "pip install vevestaX-6.8.0-py3-none-any"
   ]
  },
  {
   "cell_type": "code",
   "execution_count": 3,
   "id": "623c85cf-0826-4af1-a321-863ec64edde0",
   "metadata": {},
   "outputs": [],
   "source": [
    "#import the vevesta Library\n",
    "from vevestaX import vevesta as v\n",
    "V=v.Experiment()"
   ]
  },
  {
   "cell_type": "code",
   "execution_count": 4,
   "id": "5eef25c2-1920-4c46-b0f4-b7c79c9b3656",
   "metadata": {},
   "outputs": [],
   "source": [
    "#read the dataset\n",
    "import pandas as pd\n",
    "df=pd.read_csv(\"iris.csv\")\n",
    "df.head(2)\n",
    "\n",
    "#Extract the columns names for features\n",
    "V.ds=df\n",
    "# you can also use:\n",
    "#   V.dataSourcing = df"
   ]
  },
  {
   "cell_type": "code",
   "execution_count": 5,
   "id": "90212d9b-08f7-4e5c-ac43-75343f069245",
   "metadata": {},
   "outputs": [],
   "source": [
    "#Extract features engineered\n",
    "V.fe=df  \n",
    "# you can also use:\n",
    "V.featureEngineering = df"
   ]
  },
  {
   "cell_type": "code",
   "execution_count": 6,
   "id": "47a208dd-3beb-41c6-b5be-af28f89c133e",
   "metadata": {},
   "outputs": [
    {
     "data": {
      "text/plain": [
       "{'epochs': 100, 'seed': 3, 'accuracy': 99, 'recall': 1, 'loss': 'rmse'}"
      ]
     },
     "execution_count": 6,
     "metadata": {},
     "output_type": "execute_result"
    }
   ],
   "source": [
    "#Track variables which have been used for modelling\n",
    "V.start()\n",
    "# you can also use: V.startModelling()\n",
    "\n",
    "\n",
    "# All the variables mentioned here will be tracked\n",
    "epochs=100\n",
    "seed=3\n",
    "accuracy = 99 #this will be computed variable\n",
    "recall = 1\n",
    " #This will be computed variable\n",
    "loss='rmse'\n",
    "\n",
    "\n",
    "#end tracking of variables\n",
    "V.end()\n",
    "# or, you can also use : V.endModelling()"
   ]
  },
  {
   "cell_type": "code",
   "execution_count": 9,
   "id": "6be0e232-25d7-49f0-970d-1bd185b8b132",
   "metadata": {},
   "outputs": [
    {
     "name": "stdout",
     "output_type": "stream",
     "text": [
      "Dumped the experiment in the file vevestaDump1.xlsx\n",
      "For additional features, explore our tool at https://www.vevesta.com?utm_source=vevestaX for free.\n",
      "File pushed to git\n"
     ]
    }
   ],
   "source": [
    "# Dump the datasourcing, featres engineered and the variables tracked in a xlsx file\n",
    "V.dump(techniqueUsed='XGBoost',filename=\"vevestaDump1.xlsx\",message=\"XGboost with data augmentation was used\",version=1, repoName=\"jashntyagi\")"
   ]
  },
  {
   "cell_type": "code",
   "execution_count": 10,
   "id": "6a24e56e-a551-4cc4-8717-628ba564e091",
   "metadata": {},
   "outputs": [
    {
     "name": "stdout",
     "output_type": "stream",
     "text": [
      "Dumped the experiment in the file vevesta.xlsx\n",
      "For additional features, explore our tool at https://www.vevesta.com?utm_source=vevestaX for free.\n"
     ]
    }
   ],
   "source": [
    "V.dump(techniqueUsed='XGBoost')"
   ]
  },
  {
   "cell_type": "code",
   "execution_count": 11,
   "id": "05e362e0-cc5a-484a-827c-4fc45ed5519b",
   "metadata": {},
   "outputs": [
    {
     "name": "stdout",
     "output_type": "stream",
     "text": [
      "Dumped the experiment in the file vevesta.xlsx\n",
      "File not pushed to git\n",
      "Failed to write experiment to tool, Vevesta\n"
     ]
    }
   ],
   "source": [
    "V.commit(techniqueUsed = \"XGBoost\", message=\"increased accuracy\", version=1, projectId=41)"
   ]
  },
  {
   "cell_type": "code",
   "execution_count": 21,
   "id": "58652553-40c4-4c77-b784-4396c29ad026",
   "metadata": {},
   "outputs": [
    {
     "name": "stdout",
     "output_type": "stream",
     "text": [
      "Dumped the experiment in the file vevesta.xlsx\n",
      "File pushed to git\n",
      "Failed to write experiment to tool, Vevesta\n"
     ]
    }
   ],
   "source": [
    "V.commit(techniqueUsed = \"Jashn_Tyagi_I\", message=\"increased accuracy\", version=1, projectId=164, repoName='jashntyagi')"
   ]
  },
  {
   "cell_type": "code",
   "execution_count": null,
   "id": "12af6e71-e4e9-4923-9ece-cfcf6d6a549d",
   "metadata": {},
   "outputs": [],
   "source": []
  }
 ],
 "metadata": {
  "kernelspec": {
   "display_name": "Python 3 (ipykernel)",
   "language": "python",
   "name": "python3"
  },
  "language_info": {
   "codemirror_mode": {
    "name": "ipython",
    "version": 3
   },
   "file_extension": ".py",
   "mimetype": "text/x-python",
   "name": "python",
   "nbconvert_exporter": "python",
   "pygments_lexer": "ipython3",
   "version": "3.10.5"
  }
 },
 "nbformat": 4,
 "nbformat_minor": 5
}
